{
  "nbformat": 4,
  "nbformat_minor": 0,
  "metadata": {
    "colab": {
      "provenance": []
    },
    "kernelspec": {
      "name": "python3",
      "display_name": "Python 3"
    },
    "language_info": {
      "name": "python"
    }
  },
  "cells": [
    {
      "cell_type": "code",
      "execution_count": null,
      "metadata": {
        "id": "iIZwALHgvHRk"
      },
      "outputs": [],
      "source": []
    },
    {
      "cell_type": "markdown",
      "source": [
        "# **css calculate**"
      ],
      "metadata": {
        "id": "wGB3XsD4siS3"
      }
    },
    {
      "cell_type": "code",
      "source": [
        "import pandas as pd\n",
        "import numpy as np\n",
        "from scipy.spatial.distance import jensenshannon\n",
        "\n",
        "def load_and_clean_data(filepath):\n",
        "    \"\"\"Read Excel file, normalise subject names\"\"\"\n",
        "    df = pd.read_excel(filepath, usecols=['Course', 'Credits'])\n",
        "    df['Course'] = df['Course'].str.lower().str.strip()\n",
        "    return df\n",
        "\n",
        "def create_probability_distribution(df):\n",
        "    \"\"\"Create a probability distribution based on course credits\"\"\"\n",
        "    df['Probability'] = df['Credits']\n",
        "    return df.set_index('Course')['Probability']\n",
        "\n",
        "def calculate_jsd(p1, p2):\n",
        "    \"\"\"Calculate Jensen-Shannon Divergence\"\"\"\n",
        "    jsd = jensenshannon(p1, p2, base=2)\n",
        "    return jsd**2  # Return the square of the JSD, expressed as divergence\n",
        "\n",
        "\n",
        "def analyze_multidisciplinary_interdisciplinary(path_double_major, path_half_major_one, path_half_major_two):\n",
        "    # Importing and sorting data\n",
        "    df_double = load_and_clean_data(path_double_major)\n",
        "    df_half_one = load_and_clean_data(path_half_major_one)\n",
        "    df_half_two = load_and_clean_data(path_half_major_two)\n",
        "\n",
        "    # Create a subject set\n",
        "    set_double_major = set(df_double['Course'])\n",
        "    set_half_one = set(df_half_one['Course'])\n",
        "    set_half_two = set(df_half_two['Course'])\n",
        "    set_half_union = set_half_one.union(set_half_two)\n",
        "\n",
        "    # Unpredictability between the union of Single Majors and Double Majors (measured by JSD)\n",
        "    p_double_major = create_probability_distribution(df_double)\n",
        "    p_half_union = create_probability_distribution(pd.concat([df_half_one, df_half_two]).drop_duplicates(subset='Course'))\n",
        "\n",
        "    # match indexes for all subjects to make them comparable\n",
        "    all_courses = p_double_major.index.union(p_half_union.index)\n",
        "    p_double_major = p_double_major.reindex(all_courses, fill_value=0)\n",
        "    p_half_union = p_half_union.reindex(all_courses, fill_value=0)\n",
        "\n",
        "    # calculate JSD\n",
        "    jsd_score = calculate_jsd(p_half_union, p_double_major)\n",
        "\n",
        "    # Calculate similarity between single majors\n",
        "    similarity_score = len(set_half_one.intersection(set_half_two)) / len(set_half_one.union(set_half_two))\n",
        "\n",
        "    # New css definitions\n",
        "    css = similarity_score * jsd_score\n",
        "\n",
        "    return {\n",
        "        'ω Score': jsd_score,\n",
        "        'Similarity Score': similarity_score,\n",
        "        'Interdisciplinary Strength Score (css)': css\n",
        "    }"
      ],
      "metadata": {
        "id": "I-rcJS_9sj6f"
      },
      "execution_count": null,
      "outputs": []
    },
    {
      "cell_type": "code",
      "source": [
        "import os\n",
        "import pandas as pd\n",
        "import matplotlib.pyplot as plt\n",
        "import seaborn as sns\n",
        "\n",
        "def process_all_combinations(double_folder, single_folder, output_path):\n",
        "    results = []\n",
        "\n",
        "    for filename in os.listdir(double_folder):\n",
        "        if filename.endswith('_double_major.xlsx'):\n",
        "            double_major_path = os.path.join(double_folder, filename)\n",
        "            major_name = filename.replace('_double_major.xlsx', '')\n",
        "            major_one, major_two = major_name.split('_')\n",
        "\n",
        "            single_major_one_path = os.path.join(single_folder, f\"{major_one}_single_major.xlsx\")\n",
        "            single_major_two_path = os.path.join(single_folder, f\"{major_two}_single_major.xlsx\")\n",
        "\n",
        "            if os.path.exists(single_major_one_path) and os.path.exists(single_major_two_path):\n",
        "                analysis_results = analyze_multidisciplinary_interdisciplinary(double_major_path, single_major_one_path, single_major_two_path)\n",
        "                results.append({\n",
        "                    'Combination': major_name,\n",
        "                    'ω': analysis_results['ω Score'],\n",
        "                    'Similarity': analysis_results['Similarity Score'],\n",
        "                    'css': analysis_results['Interdisciplinary Strength Score (css)']\n",
        "                })\n",
        "\n",
        "    results_df = pd.DataFrame(results)\n",
        "\n",
        "    results_df.to_excel(output_path, index=False)\n",
        "    return results_df\n"
      ],
      "metadata": {
        "id": "d6RGmP3YsouL"
      },
      "execution_count": null,
      "outputs": []
    }
  ]
}